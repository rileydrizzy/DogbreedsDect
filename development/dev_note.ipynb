{
 "cells": [
  {
   "cell_type": "code",
   "execution_count": 2,
   "metadata": {},
   "outputs": [
    {
     "data": {
      "text/plain": [
       "'/workspace/dogbreeds_dect'"
      ]
     },
     "execution_count": 2,
     "metadata": {},
     "output_type": "execute_result"
    }
   ],
   "source": []
  },
  {
   "cell_type": "code",
   "execution_count": 6,
   "metadata": {},
   "outputs": [],
   "source": [
    "total_imagess = tf.io.gfile.glob(\"data/raw/stanford-dogs-dataset/images/Images/n02085620-Chihuahua/*jpg\")"
   ]
  },
  {
   "cell_type": "code",
   "execution_count": 11,
   "metadata": {},
   "outputs": [
    {
     "data": {
      "text/plain": [
       "['data/raw/stanford-dogs-dataset/images/Images/n02085620-Chihuahua/n02085620_1152.jpg',\n",
       " 'data/raw/stanford-dogs-dataset/images/Images/n02085620-Chihuahua/n02085620_11696.jpg',\n",
       " 'data/raw/stanford-dogs-dataset/images/Images/n02085620-Chihuahua/n02085620_11818.jpg',\n",
       " 'data/raw/stanford-dogs-dataset/images/Images/n02085620-Chihuahua/n02085620_11948.jpg',\n",
       " 'data/raw/stanford-dogs-dataset/images/Images/n02085620-Chihuahua/n02085620_1205.jpg',\n",
       " 'data/raw/stanford-dogs-dataset/images/Images/n02085620-Chihuahua/n02085620_12101.jpg']"
      ]
     },
     "execution_count": 11,
     "metadata": {},
     "output_type": "execute_result"
    }
   ],
   "source": [
    "total_imagess[10:16]"
   ]
  },
  {
   "cell_type": "code",
   "execution_count": 15,
   "metadata": {},
   "outputs": [
    {
     "data": {
      "text/plain": [
       "120"
      ]
     },
     "execution_count": 15,
     "metadata": {},
     "output_type": "execute_result"
    }
   ],
   "source": []
  },
  {
   "cell_type": "code",
   "execution_count": 28,
   "metadata": {},
   "outputs": [
    {
     "data": {
      "text/html": [
       "<div>\n",
       "<style scoped>\n",
       "    .dataframe tbody tr th:only-of-type {\n",
       "        vertical-align: middle;\n",
       "    }\n",
       "\n",
       "    .dataframe tbody tr th {\n",
       "        vertical-align: top;\n",
       "    }\n",
       "\n",
       "    .dataframe thead th {\n",
       "        text-align: right;\n",
       "    }\n",
       "</style>\n",
       "<table border=\"1\" class=\"dataframe\">\n",
       "  <thead>\n",
       "    <tr style=\"text-align: right;\">\n",
       "      <th></th>\n",
       "      <th>Unnamed: 0</th>\n",
       "      <th>folder</th>\n",
       "      <th>filename</th>\n",
       "      <th>database</th>\n",
       "      <th>width</th>\n",
       "      <th>height</th>\n",
       "      <th>depth</th>\n",
       "      <th>object_name</th>\n",
       "      <th>pose</th>\n",
       "      <th>truncated</th>\n",
       "      <th>difficult</th>\n",
       "      <th>xmin</th>\n",
       "      <th>ymin</th>\n",
       "      <th>xmax</th>\n",
       "      <th>ymax</th>\n",
       "    </tr>\n",
       "  </thead>\n",
       "  <tbody>\n",
       "    <tr>\n",
       "      <th>0</th>\n",
       "      <td>0</td>\n",
       "      <td>02085620</td>\n",
       "      <td>n02085620_10074</td>\n",
       "      <td>ImageNet database</td>\n",
       "      <td>333</td>\n",
       "      <td>500</td>\n",
       "      <td>3</td>\n",
       "      <td>Chihuahua</td>\n",
       "      <td>Unspecified</td>\n",
       "      <td>0</td>\n",
       "      <td>0</td>\n",
       "      <td>25</td>\n",
       "      <td>10</td>\n",
       "      <td>276</td>\n",
       "      <td>498</td>\n",
       "    </tr>\n",
       "    <tr>\n",
       "      <th>1</th>\n",
       "      <td>0</td>\n",
       "      <td>02085620</td>\n",
       "      <td>n02085620_10131</td>\n",
       "      <td>ImageNet database</td>\n",
       "      <td>395</td>\n",
       "      <td>495</td>\n",
       "      <td>3</td>\n",
       "      <td>Chihuahua</td>\n",
       "      <td>Unspecified</td>\n",
       "      <td>0</td>\n",
       "      <td>0</td>\n",
       "      <td>49</td>\n",
       "      <td>9</td>\n",
       "      <td>393</td>\n",
       "      <td>493</td>\n",
       "    </tr>\n",
       "    <tr>\n",
       "      <th>2</th>\n",
       "      <td>0</td>\n",
       "      <td>02085620</td>\n",
       "      <td>n02085620_10621</td>\n",
       "      <td>ImageNet database</td>\n",
       "      <td>500</td>\n",
       "      <td>298</td>\n",
       "      <td>3</td>\n",
       "      <td>Chihuahua</td>\n",
       "      <td>Unspecified</td>\n",
       "      <td>0</td>\n",
       "      <td>0</td>\n",
       "      <td>142</td>\n",
       "      <td>43</td>\n",
       "      <td>335</td>\n",
       "      <td>250</td>\n",
       "    </tr>\n",
       "    <tr>\n",
       "      <th>3</th>\n",
       "      <td>0</td>\n",
       "      <td>02085620</td>\n",
       "      <td>n02085620_1073</td>\n",
       "      <td>ImageNet database</td>\n",
       "      <td>345</td>\n",
       "      <td>500</td>\n",
       "      <td>3</td>\n",
       "      <td>Chihuahua</td>\n",
       "      <td>Unspecified</td>\n",
       "      <td>0</td>\n",
       "      <td>0</td>\n",
       "      <td>0</td>\n",
       "      <td>27</td>\n",
       "      <td>312</td>\n",
       "      <td>498</td>\n",
       "    </tr>\n",
       "    <tr>\n",
       "      <th>4</th>\n",
       "      <td>0</td>\n",
       "      <td>02085620</td>\n",
       "      <td>n02085620_10976</td>\n",
       "      <td>ImageNet database</td>\n",
       "      <td>322</td>\n",
       "      <td>484</td>\n",
       "      <td>3</td>\n",
       "      <td>Chihuahua</td>\n",
       "      <td>Unspecified</td>\n",
       "      <td>0</td>\n",
       "      <td>0</td>\n",
       "      <td>90</td>\n",
       "      <td>104</td>\n",
       "      <td>242</td>\n",
       "      <td>452</td>\n",
       "    </tr>\n",
       "  </tbody>\n",
       "</table>\n",
       "</div>"
      ],
      "text/plain": [
       "   Unnamed: 0    folder         filename           database  width  height  \\\n",
       "0           0  02085620  n02085620_10074  ImageNet database    333     500   \n",
       "1           0  02085620  n02085620_10131  ImageNet database    395     495   \n",
       "2           0  02085620  n02085620_10621  ImageNet database    500     298   \n",
       "3           0  02085620   n02085620_1073  ImageNet database    345     500   \n",
       "4           0  02085620  n02085620_10976  ImageNet database    322     484   \n",
       "\n",
       "   depth object_name         pose  truncated  difficult  xmin  ymin  xmax  \\\n",
       "0      3   Chihuahua  Unspecified          0          0    25    10   276   \n",
       "1      3   Chihuahua  Unspecified          0          0    49     9   393   \n",
       "2      3   Chihuahua  Unspecified          0          0   142    43   335   \n",
       "3      3   Chihuahua  Unspecified          0          0     0    27   312   \n",
       "4      3   Chihuahua  Unspecified          0          0    90   104   242   \n",
       "\n",
       "   ymax  \n",
       "0   498  \n",
       "1   493  \n",
       "2   250  \n",
       "3   498  \n",
       "4   452  "
      ]
     },
     "execution_count": 28,
     "metadata": {},
     "output_type": "execute_result"
    }
   ],
   "source": [
    "dataframe.head()"
   ]
  }
 ],
 "metadata": {
  "kernelspec": {
   "display_name": "Python 3",
   "language": "python",
   "name": "python3"
  },
  "language_info": {
   "codemirror_mode": {
    "name": "ipython",
    "version": 3
   },
   "file_extension": ".py",
   "mimetype": "text/x-python",
   "name": "python",
   "nbconvert_exporter": "python",
   "pygments_lexer": "ipython3",
   "version": "3.11.1"
  },
  "orig_nbformat": 4
 },
 "nbformat": 4,
 "nbformat_minor": 2
}
