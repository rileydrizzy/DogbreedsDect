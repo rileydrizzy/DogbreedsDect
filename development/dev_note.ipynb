{
 "cells": [
  {
   "cell_type": "code",
   "execution_count": 2,
   "metadata": {},
   "outputs": [
    {
     "data": {
      "text/plain": [
       "'/workspace/dogbreeds_dect'"
      ]
     },
     "execution_count": 2,
     "metadata": {},
     "output_type": "execute_result"
    }
   ],
   "source": []
  },
  {
   "cell_type": "code",
   "execution_count": 6,
   "metadata": {},
   "outputs": [],
   "source": [
    "total_imagess = tf.io.gfile.glob(\"data/raw/stanford-dogs-dataset/images/Images/n02085620-Chihuahua/*jpg\")"
   ]
  },
  {
   "cell_type": "code",
   "execution_count": 11,
   "metadata": {},
   "outputs": [
    {
     "data": {
      "text/plain": [
       "['data/raw/stanford-dogs-dataset/images/Images/n02085620-Chihuahua/n02085620_1152.jpg',\n",
       " 'data/raw/stanford-dogs-dataset/images/Images/n02085620-Chihuahua/n02085620_11696.jpg',\n",
       " 'data/raw/stanford-dogs-dataset/images/Images/n02085620-Chihuahua/n02085620_11818.jpg',\n",
       " 'data/raw/stanford-dogs-dataset/images/Images/n02085620-Chihuahua/n02085620_11948.jpg',\n",
       " 'data/raw/stanford-dogs-dataset/images/Images/n02085620-Chihuahua/n02085620_1205.jpg',\n",
       " 'data/raw/stanford-dogs-dataset/images/Images/n02085620-Chihuahua/n02085620_12101.jpg']"
      ]
     },
     "execution_count": 11,
     "metadata": {},
     "output_type": "execute_result"
    }
   ],
   "source": [
    "total_imagess[10:16]"
   ]
  },
  {
   "cell_type": "code",
   "execution_count": 15,
   "metadata": {},
   "outputs": [
    {
     "data": {
      "text/plain": [
       "120"
      ]
     },
     "execution_count": 15,
     "metadata": {},
     "output_type": "execute_result"
    }
   ],
   "source": []
  }
 ],
 "metadata": {
  "kernelspec": {
   "display_name": "Python 3",
   "language": "python",
   "name": "python3"
  },
  "language_info": {
   "codemirror_mode": {
    "name": "ipython",
    "version": 3
   },
   "file_extension": ".py",
   "mimetype": "text/x-python",
   "name": "python",
   "nbconvert_exporter": "python",
   "pygments_lexer": "ipython3",
   "version": "3.11.1"
  },
  "orig_nbformat": 4
 },
 "nbformat": 4,
 "nbformat_minor": 2
}
